{
 "cells": [
  {
   "cell_type": "markdown",
   "id": "8c7d6659",
   "metadata": {},
   "source": [
    "# Import libraries"
   ]
  },
  {
   "cell_type": "code",
   "execution_count": 1,
   "id": "c33d1756",
   "metadata": {},
   "outputs": [],
   "source": [
    "#Importing libraries\n",
    "import pandas as pd\n",
    "import numpy as np\n",
    "import os"
   ]
  },
  {
   "cell_type": "markdown",
   "id": "9d90f22c",
   "metadata": {},
   "source": [
    "# Work with Python libraries"
   ]
  },
  {
   "cell_type": "code",
   "execution_count": 3,
   "id": "d8787dd6",
   "metadata": {},
   "outputs": [],
   "source": [
    "x = 150"
   ]
  },
  {
   "cell_type": "code",
   "execution_count": 4,
   "id": "58b7a26f",
   "metadata": {},
   "outputs": [],
   "source": [
    "y = 50"
   ]
  },
  {
   "cell_type": "code",
   "execution_count": 5,
   "id": "121df048",
   "metadata": {},
   "outputs": [],
   "source": [
    "z = 50"
   ]
  },
  {
   "cell_type": "code",
   "execution_count": 6,
   "id": "17a887a2",
   "metadata": {},
   "outputs": [
    {
     "data": {
      "text/plain": [
       "100"
      ]
     },
     "execution_count": 6,
     "metadata": {},
     "output_type": "execute_result"
    }
   ],
   "source": [
    "x-y"
   ]
  },
  {
   "cell_type": "code",
   "execution_count": 7,
   "id": "13410c4a",
   "metadata": {},
   "outputs": [
    {
     "data": {
      "text/plain": [
       "100"
      ]
     },
     "execution_count": 7,
     "metadata": {},
     "output_type": "execute_result"
    }
   ],
   "source": [
    "y+z"
   ]
  },
  {
   "cell_type": "code",
   "execution_count": 8,
   "id": "5c98de18",
   "metadata": {},
   "outputs": [
    {
     "data": {
      "text/plain": [
       "100"
      ]
     },
     "execution_count": 8,
     "metadata": {},
     "output_type": "execute_result"
    }
   ],
   "source": [
    "x-z"
   ]
  },
  {
   "cell_type": "code",
   "execution_count": 9,
   "id": "08d8755f",
   "metadata": {},
   "outputs": [],
   "source": [
    "x=2.5"
   ]
  },
  {
   "cell_type": "code",
   "execution_count": 10,
   "id": "0dec3480",
   "metadata": {},
   "outputs": [
    {
     "data": {
      "text/plain": [
       "1.6666666666666667"
      ]
     },
     "execution_count": 10,
     "metadata": {},
     "output_type": "execute_result"
    }
   ],
   "source": [
    "y=1.5\n",
    "x/y"
   ]
  },
  {
   "cell_type": "code",
   "execution_count": 11,
   "id": "7a7f313b",
   "metadata": {},
   "outputs": [],
   "source": [
    "x='Hel'"
   ]
  },
  {
   "cell_type": "code",
   "execution_count": 12,
   "id": "7c13a7fe",
   "metadata": {},
   "outputs": [],
   "source": [
    "y='lo'"
   ]
  },
  {
   "cell_type": "code",
   "execution_count": 13,
   "id": "9e09ec20",
   "metadata": {},
   "outputs": [
    {
     "data": {
      "text/plain": [
       "'Hello'"
      ]
     },
     "execution_count": 13,
     "metadata": {},
     "output_type": "execute_result"
    }
   ],
   "source": [
    "x+y"
   ]
  },
  {
   "cell_type": "code",
   "execution_count": 14,
   "id": "b7a3d7b9",
   "metadata": {},
   "outputs": [],
   "source": [
    "x='have a nice '"
   ]
  },
  {
   "cell_type": "code",
   "execution_count": 15,
   "id": "d5f39635",
   "metadata": {},
   "outputs": [],
   "source": [
    "y='holiday weekend'"
   ]
  },
  {
   "cell_type": "code",
   "execution_count": 16,
   "id": "2e7abf6a",
   "metadata": {},
   "outputs": [
    {
     "data": {
      "text/plain": [
       "'have a nice holiday weekend'"
      ]
     },
     "execution_count": 16,
     "metadata": {},
     "output_type": "execute_result"
    }
   ],
   "source": [
    "x+y"
   ]
  },
  {
   "cell_type": "code",
   "execution_count": null,
   "id": "b10568c0",
   "metadata": {},
   "outputs": [],
   "source": []
  }
 ],
 "metadata": {
  "kernelspec": {
   "display_name": "Python 3 (ipykernel)",
   "language": "python",
   "name": "python3"
  },
  "language_info": {
   "codemirror_mode": {
    "name": "ipython",
    "version": 3
   },
   "file_extension": ".py",
   "mimetype": "text/x-python",
   "name": "python",
   "nbconvert_exporter": "python",
   "pygments_lexer": "ipython3",
   "version": "3.10.9"
  }
 },
 "nbformat": 4,
 "nbformat_minor": 5
}
